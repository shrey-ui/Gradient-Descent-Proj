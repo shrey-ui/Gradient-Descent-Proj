{
 "cells": [
  {
   "cell_type": "code",
   "execution_count": 1,
   "id": "1b9d364b",
   "metadata": {},
   "outputs": [],
   "source": [
    "import pandas as pd\n"
   ]
  },
  {
   "cell_type": "code",
   "execution_count": 5,
   "id": "b932ae95",
   "metadata": {},
   "outputs": [],
   "source": [
    "df= pd.read_csv('./Datasets/mortgage.csv')"
   ]
  },
  {
   "cell_type": "code",
   "execution_count": 11,
   "id": "49153188",
   "metadata": {},
   "outputs": [],
   "source": [
    "df.dropna(how= 'any', inplace= True)"
   ]
  },
  {
   "cell_type": "code",
   "execution_count": 13,
   "id": "028e4efd",
   "metadata": {},
   "outputs": [
    {
     "data": {
      "text/plain": [
       "id                           int64\n",
       "time                         int64\n",
       "orig_time                    int64\n",
       "first_time                   int64\n",
       "mat_time                     int64\n",
       "balance_time               float64\n",
       "LTV_time                   float64\n",
       "interest_rate_time         float64\n",
       "hpi_time                   float64\n",
       "gdp_time                   float64\n",
       "uer_time                   float64\n",
       "REtype_CO_orig_time          int64\n",
       "REtype_PU_orig_time          int64\n",
       "REtype_SF_orig_time          int64\n",
       "investor_orig_time           int64\n",
       "balance_orig_time          float64\n",
       "FICO_orig_time               int64\n",
       "LTV_orig_time              float64\n",
       "Interest_Rate_orig_time    float64\n",
       "hpi_orig_time              float64\n",
       "default_time                 int64\n",
       "payoff_time                  int64\n",
       "status_time                  int64\n",
       "dtype: object"
      ]
     },
     "execution_count": 13,
     "metadata": {},
     "output_type": "execute_result"
    }
   ],
   "source": [
    "from keras.models import Sequential\n",
    "from keras.layers import Dense\n",
    "\n",
    "import math\n"
   ]
  }
 ],
 "metadata": {
  "kernelspec": {
   "display_name": "Python 3",
   "language": "python",
   "name": "python3"
  },
  "language_info": {
   "codemirror_mode": {
    "name": "ipython",
    "version": 3
   },
   "file_extension": ".py",
   "mimetype": "text/x-python",
   "name": "python",
   "nbconvert_exporter": "python",
   "pygments_lexer": "ipython3",
   "version": "3.8.5"
  }
 },
 "nbformat": 4,
 "nbformat_minor": 5
}
