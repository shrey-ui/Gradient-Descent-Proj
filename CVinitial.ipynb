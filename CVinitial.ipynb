{
 "cells": [
  {
   "cell_type": "code",
   "execution_count": 1,
   "metadata": {
    "_kg_hide-input": true,
    "_kg_hide-output": true,
    "execution": {
     "iopub.execute_input": "2022-11-19T05:23:31.186273Z",
     "iopub.status.busy": "2022-11-19T05:23:31.185564Z",
     "iopub.status.idle": "2022-11-19T05:23:38.431829Z",
     "shell.execute_reply": "2022-11-19T05:23:38.430840Z",
     "shell.execute_reply.started": "2022-11-19T05:23:31.186194Z"
    },
    "papermill": {
     "duration": 6.684705,
     "end_time": "2022-11-03T09:00:14.073092",
     "exception": false,
     "start_time": "2022-11-03T09:00:07.388387",
     "status": "completed"
    },
    "tags": []
   },
   "outputs": [],
   "source": [
    "import numpy as np\n",
    "import pandas as pd\n",
    "import seaborn as sns\n",
    "import matplotlib.pyplot as plt\n",
    "\n",
    "from sklearn.model_selection import train_test_split\n",
    "from sklearn import decomposition\n",
    "\n",
    "import tensorflow \n",
    "from tensorflow.keras.models import Sequential\n",
    "from tensorflow.keras.layers import Input,Dense, Activation,Flatten, Conv2D, Dropout,Reshape\n",
    "from tensorflow.keras.layers import MaxPool2D, LSTM, BatchNormalization,concatenate, Conv2DTranspose\n",
    "from tensorflow.keras.callbacks import ReduceLROnPlateau,ModelCheckpoint\n",
    "from tensorflow.keras.layers import ELU\n",
    "from tensorflow.keras.losses import sparse_categorical_crossentropy, categorical_crossentropy\n",
    "from tensorflow.keras import Model\n",
    "from tensorflow.keras.optimizers import Adam,SGD\n",
    "import warnings\n",
    "warnings.filterwarnings('ignore')\n",
    "\n",
    "from sklearn.manifold import TSNE"
   ]
  },
  {
   "cell_type": "code",
   "execution_count": 2,
   "metadata": {
    "_kg_hide-input": true,
    "_kg_hide-output": true,
    "execution": {
     "iopub.execute_input": "2022-11-19T05:23:38.434444Z",
     "iopub.status.busy": "2022-11-19T05:23:38.433713Z",
     "iopub.status.idle": "2022-11-19T05:23:38.449681Z",
     "shell.execute_reply": "2022-11-19T05:23:38.447621Z",
     "shell.execute_reply.started": "2022-11-19T05:23:38.434402Z"
    },
    "papermill": {
     "duration": 0.028704,
     "end_time": "2022-11-03T09:00:14.117918",
     "exception": false,
     "start_time": "2022-11-03T09:00:14.089214",
     "status": "completed"
    },
    "tags": []
   },
   "outputs": [
    {
     "name": "stdout",
     "output_type": "stream",
     "text": [
      "/kaggle/input/fashionmnist/t10k-labels-idx1-ubyte\n",
      "/kaggle/input/fashionmnist/t10k-images-idx3-ubyte\n",
      "/kaggle/input/fashionmnist/fashion-mnist_test.csv\n",
      "/kaggle/input/fashionmnist/fashion-mnist_train.csv\n",
      "/kaggle/input/fashionmnist/train-labels-idx1-ubyte\n",
      "/kaggle/input/fashionmnist/train-images-idx3-ubyte\n",
      "/kaggle/input/digit-recognizer/sample_submission.csv\n",
      "/kaggle/input/digit-recognizer/train.csv\n",
      "/kaggle/input/digit-recognizer/test.csv\n"
     ]
    }
   ],
   "source": [
    "import os\n",
    "for dirname, _, filenames in os.walk('/kaggle/input'):\n",
    "    for filename in filenames:\n",
    "        print(os.path.join(dirname, filename))"
   ]
  },
  {
   "cell_type": "code",
   "execution_count": 3,
   "metadata": {
    "execution": {
     "iopub.execute_input": "2022-11-19T05:23:38.451554Z",
     "iopub.status.busy": "2022-11-19T05:23:38.451099Z",
     "iopub.status.idle": "2022-11-19T05:23:46.631128Z",
     "shell.execute_reply": "2022-11-19T05:23:46.630121Z",
     "shell.execute_reply.started": "2022-11-19T05:23:38.451512Z"
    },
    "papermill": {
     "duration": 3.433323,
     "end_time": "2022-11-03T09:00:17.627898",
     "exception": false,
     "start_time": "2022-11-03T09:00:14.194575",
     "status": "completed"
    },
    "tags": []
   },
   "outputs": [],
   "source": [
    "loc = './Datasets'\n",
    "train_data = pd.read_csv(loc+'/train.csv')\n",
    "fashion_train_data = pd.read_csv('./Datasets/fashion-mnist_train.csv')\n"
   ]
  },
  {
   "cell_type": "code",
   "execution_count": 4,
   "metadata": {
    "execution": {
     "iopub.execute_input": "2022-11-19T05:23:46.634239Z",
     "iopub.status.busy": "2022-11-19T05:23:46.633828Z",
     "iopub.status.idle": "2022-11-19T05:23:49.245882Z",
     "shell.execute_reply": "2022-11-19T05:23:49.244932Z",
     "shell.execute_reply.started": "2022-11-19T05:23:46.634201Z"
    },
    "papermill": {
     "duration": 2.106856,
     "end_time": "2022-11-03T09:00:19.750953",
     "exception": false,
     "start_time": "2022-11-03T09:00:17.644097",
     "status": "completed"
    },
    "tags": []
   },
   "outputs": [],
   "source": [
    "test_file = loc+\"/test.csv\"\n",
    "test_data = pd.read_csv(test_file)\n",
    "fashion_test_data = pd.read_csv('./Datasets/fashion-mnist_test.csv')"
   ]
  },
  {
   "cell_type": "markdown",
   "metadata": {},
   "source": [
    "Data Dimension of the Digits MNIST Dataset"
   ]
  },
  {
   "cell_type": "code",
   "execution_count": 5,
   "metadata": {
    "execution": {
     "iopub.execute_input": "2022-11-19T05:23:49.247485Z",
     "iopub.status.busy": "2022-11-19T05:23:49.247129Z",
     "iopub.status.idle": "2022-11-19T05:23:49.257400Z",
     "shell.execute_reply": "2022-11-19T05:23:49.253424Z",
     "shell.execute_reply.started": "2022-11-19T05:23:49.247449Z"
    },
    "papermill": {
     "duration": 0.025166,
     "end_time": "2022-11-03T09:00:19.823782",
     "exception": false,
     "start_time": "2022-11-03T09:00:19.798616",
     "status": "completed"
    },
    "tags": []
   },
   "outputs": [
    {
     "name": "stdout",
     "output_type": "stream",
     "text": [
      "train.csv size is (42000, 785)\n",
      "test.csv size is (28000, 784)\n"
     ]
    }
   ],
   "source": [
    "print(f\"train.csv size is {train_data.shape}\")\n",
    "print(f\"test.csv size is {test_data.shape}\")"
   ]
  },
  {
   "cell_type": "code",
   "execution_count": 6,
   "metadata": {
    "execution": {
     "iopub.execute_input": "2022-11-19T05:23:49.259558Z",
     "iopub.status.busy": "2022-11-19T05:23:49.258925Z",
     "iopub.status.idle": "2022-11-19T05:23:49.284422Z",
     "shell.execute_reply": "2022-11-19T05:23:49.283362Z",
     "shell.execute_reply.started": "2022-11-19T05:23:49.259523Z"
    },
    "papermill": {
     "duration": 0.045823,
     "end_time": "2022-11-03T09:00:19.885436",
     "exception": false,
     "start_time": "2022-11-03T09:00:19.839613",
     "status": "completed"
    },
    "tags": []
   },
   "outputs": [
    {
     "data": {
      "text/html": [
       "<div>\n",
       "<style scoped>\n",
       "    .dataframe tbody tr th:only-of-type {\n",
       "        vertical-align: middle;\n",
       "    }\n",
       "\n",
       "    .dataframe tbody tr th {\n",
       "        vertical-align: top;\n",
       "    }\n",
       "\n",
       "    .dataframe thead th {\n",
       "        text-align: right;\n",
       "    }\n",
       "</style>\n",
       "<table border=\"1\" class=\"dataframe\">\n",
       "  <thead>\n",
       "    <tr style=\"text-align: right;\">\n",
       "      <th></th>\n",
       "      <th>label</th>\n",
       "      <th>pixel0</th>\n",
       "      <th>pixel1</th>\n",
       "      <th>pixel2</th>\n",
       "      <th>pixel3</th>\n",
       "      <th>pixel4</th>\n",
       "      <th>pixel5</th>\n",
       "      <th>pixel6</th>\n",
       "      <th>pixel7</th>\n",
       "      <th>pixel8</th>\n",
       "      <th>...</th>\n",
       "      <th>pixel774</th>\n",
       "      <th>pixel775</th>\n",
       "      <th>pixel776</th>\n",
       "      <th>pixel777</th>\n",
       "      <th>pixel778</th>\n",
       "      <th>pixel779</th>\n",
       "      <th>pixel780</th>\n",
       "      <th>pixel781</th>\n",
       "      <th>pixel782</th>\n",
       "      <th>pixel783</th>\n",
       "    </tr>\n",
       "  </thead>\n",
       "  <tbody>\n",
       "    <tr>\n",
       "      <th>0</th>\n",
       "      <td>1</td>\n",
       "      <td>0</td>\n",
       "      <td>0</td>\n",
       "      <td>0</td>\n",
       "      <td>0</td>\n",
       "      <td>0</td>\n",
       "      <td>0</td>\n",
       "      <td>0</td>\n",
       "      <td>0</td>\n",
       "      <td>0</td>\n",
       "      <td>...</td>\n",
       "      <td>0</td>\n",
       "      <td>0</td>\n",
       "      <td>0</td>\n",
       "      <td>0</td>\n",
       "      <td>0</td>\n",
       "      <td>0</td>\n",
       "      <td>0</td>\n",
       "      <td>0</td>\n",
       "      <td>0</td>\n",
       "      <td>0</td>\n",
       "    </tr>\n",
       "    <tr>\n",
       "      <th>1</th>\n",
       "      <td>0</td>\n",
       "      <td>0</td>\n",
       "      <td>0</td>\n",
       "      <td>0</td>\n",
       "      <td>0</td>\n",
       "      <td>0</td>\n",
       "      <td>0</td>\n",
       "      <td>0</td>\n",
       "      <td>0</td>\n",
       "      <td>0</td>\n",
       "      <td>...</td>\n",
       "      <td>0</td>\n",
       "      <td>0</td>\n",
       "      <td>0</td>\n",
       "      <td>0</td>\n",
       "      <td>0</td>\n",
       "      <td>0</td>\n",
       "      <td>0</td>\n",
       "      <td>0</td>\n",
       "      <td>0</td>\n",
       "      <td>0</td>\n",
       "    </tr>\n",
       "    <tr>\n",
       "      <th>2</th>\n",
       "      <td>1</td>\n",
       "      <td>0</td>\n",
       "      <td>0</td>\n",
       "      <td>0</td>\n",
       "      <td>0</td>\n",
       "      <td>0</td>\n",
       "      <td>0</td>\n",
       "      <td>0</td>\n",
       "      <td>0</td>\n",
       "      <td>0</td>\n",
       "      <td>...</td>\n",
       "      <td>0</td>\n",
       "      <td>0</td>\n",
       "      <td>0</td>\n",
       "      <td>0</td>\n",
       "      <td>0</td>\n",
       "      <td>0</td>\n",
       "      <td>0</td>\n",
       "      <td>0</td>\n",
       "      <td>0</td>\n",
       "      <td>0</td>\n",
       "    </tr>\n",
       "    <tr>\n",
       "      <th>3</th>\n",
       "      <td>4</td>\n",
       "      <td>0</td>\n",
       "      <td>0</td>\n",
       "      <td>0</td>\n",
       "      <td>0</td>\n",
       "      <td>0</td>\n",
       "      <td>0</td>\n",
       "      <td>0</td>\n",
       "      <td>0</td>\n",
       "      <td>0</td>\n",
       "      <td>...</td>\n",
       "      <td>0</td>\n",
       "      <td>0</td>\n",
       "      <td>0</td>\n",
       "      <td>0</td>\n",
       "      <td>0</td>\n",
       "      <td>0</td>\n",
       "      <td>0</td>\n",
       "      <td>0</td>\n",
       "      <td>0</td>\n",
       "      <td>0</td>\n",
       "    </tr>\n",
       "    <tr>\n",
       "      <th>4</th>\n",
       "      <td>0</td>\n",
       "      <td>0</td>\n",
       "      <td>0</td>\n",
       "      <td>0</td>\n",
       "      <td>0</td>\n",
       "      <td>0</td>\n",
       "      <td>0</td>\n",
       "      <td>0</td>\n",
       "      <td>0</td>\n",
       "      <td>0</td>\n",
       "      <td>...</td>\n",
       "      <td>0</td>\n",
       "      <td>0</td>\n",
       "      <td>0</td>\n",
       "      <td>0</td>\n",
       "      <td>0</td>\n",
       "      <td>0</td>\n",
       "      <td>0</td>\n",
       "      <td>0</td>\n",
       "      <td>0</td>\n",
       "      <td>0</td>\n",
       "    </tr>\n",
       "  </tbody>\n",
       "</table>\n",
       "<p>5 rows × 785 columns</p>\n",
       "</div>"
      ],
      "text/plain": [
       "   label  pixel0  pixel1  pixel2  pixel3  pixel4  pixel5  pixel6  pixel7  \\\n",
       "0      1       0       0       0       0       0       0       0       0   \n",
       "1      0       0       0       0       0       0       0       0       0   \n",
       "2      1       0       0       0       0       0       0       0       0   \n",
       "3      4       0       0       0       0       0       0       0       0   \n",
       "4      0       0       0       0       0       0       0       0       0   \n",
       "\n",
       "   pixel8  ...  pixel774  pixel775  pixel776  pixel777  pixel778  pixel779  \\\n",
       "0       0  ...         0         0         0         0         0         0   \n",
       "1       0  ...         0         0         0         0         0         0   \n",
       "2       0  ...         0         0         0         0         0         0   \n",
       "3       0  ...         0         0         0         0         0         0   \n",
       "4       0  ...         0         0         0         0         0         0   \n",
       "\n",
       "   pixel780  pixel781  pixel782  pixel783  \n",
       "0         0         0         0         0  \n",
       "1         0         0         0         0  \n",
       "2         0         0         0         0  \n",
       "3         0         0         0         0  \n",
       "4         0         0         0         0  \n",
       "\n",
       "[5 rows x 785 columns]"
      ]
     },
     "execution_count": 6,
     "metadata": {},
     "output_type": "execute_result"
    }
   ],
   "source": [
    "train_data.head()"
   ]
  },
  {
   "cell_type": "code",
   "execution_count": 7,
   "metadata": {
    "execution": {
     "iopub.execute_input": "2022-11-19T05:23:49.286500Z",
     "iopub.status.busy": "2022-11-19T05:23:49.286161Z",
     "iopub.status.idle": "2022-11-19T05:23:51.253298Z",
     "shell.execute_reply": "2022-11-19T05:23:51.252204Z",
     "shell.execute_reply.started": "2022-11-19T05:23:49.286466Z"
    },
    "papermill": {
     "duration": 2.412627,
     "end_time": "2022-11-03T09:00:22.314078",
     "exception": false,
     "start_time": "2022-11-03T09:00:19.901451",
     "status": "completed"
    },
    "tags": []
   },
   "outputs": [
    {
     "data": {
      "text/html": [
       "<div>\n",
       "<style scoped>\n",
       "    .dataframe tbody tr th:only-of-type {\n",
       "        vertical-align: middle;\n",
       "    }\n",
       "\n",
       "    .dataframe tbody tr th {\n",
       "        vertical-align: top;\n",
       "    }\n",
       "\n",
       "    .dataframe thead th {\n",
       "        text-align: right;\n",
       "    }\n",
       "</style>\n",
       "<table border=\"1\" class=\"dataframe\">\n",
       "  <thead>\n",
       "    <tr style=\"text-align: right;\">\n",
       "      <th></th>\n",
       "      <th>label</th>\n",
       "      <th>pixel0</th>\n",
       "      <th>pixel1</th>\n",
       "      <th>pixel2</th>\n",
       "      <th>pixel3</th>\n",
       "      <th>pixel4</th>\n",
       "      <th>pixel5</th>\n",
       "      <th>pixel6</th>\n",
       "      <th>pixel7</th>\n",
       "      <th>pixel8</th>\n",
       "      <th>...</th>\n",
       "      <th>pixel774</th>\n",
       "      <th>pixel775</th>\n",
       "      <th>pixel776</th>\n",
       "      <th>pixel777</th>\n",
       "      <th>pixel778</th>\n",
       "      <th>pixel779</th>\n",
       "      <th>pixel780</th>\n",
       "      <th>pixel781</th>\n",
       "      <th>pixel782</th>\n",
       "      <th>pixel783</th>\n",
       "    </tr>\n",
       "  </thead>\n",
       "  <tbody>\n",
       "    <tr>\n",
       "      <th>count</th>\n",
       "      <td>42000.000000</td>\n",
       "      <td>42000.0</td>\n",
       "      <td>42000.0</td>\n",
       "      <td>42000.0</td>\n",
       "      <td>42000.0</td>\n",
       "      <td>42000.0</td>\n",
       "      <td>42000.0</td>\n",
       "      <td>42000.0</td>\n",
       "      <td>42000.0</td>\n",
       "      <td>42000.0</td>\n",
       "      <td>...</td>\n",
       "      <td>42000.000000</td>\n",
       "      <td>42000.000000</td>\n",
       "      <td>42000.000000</td>\n",
       "      <td>42000.00000</td>\n",
       "      <td>42000.000000</td>\n",
       "      <td>42000.000000</td>\n",
       "      <td>42000.0</td>\n",
       "      <td>42000.0</td>\n",
       "      <td>42000.0</td>\n",
       "      <td>42000.0</td>\n",
       "    </tr>\n",
       "    <tr>\n",
       "      <th>mean</th>\n",
       "      <td>4.456643</td>\n",
       "      <td>0.0</td>\n",
       "      <td>0.0</td>\n",
       "      <td>0.0</td>\n",
       "      <td>0.0</td>\n",
       "      <td>0.0</td>\n",
       "      <td>0.0</td>\n",
       "      <td>0.0</td>\n",
       "      <td>0.0</td>\n",
       "      <td>0.0</td>\n",
       "      <td>...</td>\n",
       "      <td>0.219286</td>\n",
       "      <td>0.117095</td>\n",
       "      <td>0.059024</td>\n",
       "      <td>0.02019</td>\n",
       "      <td>0.017238</td>\n",
       "      <td>0.002857</td>\n",
       "      <td>0.0</td>\n",
       "      <td>0.0</td>\n",
       "      <td>0.0</td>\n",
       "      <td>0.0</td>\n",
       "    </tr>\n",
       "    <tr>\n",
       "      <th>std</th>\n",
       "      <td>2.887730</td>\n",
       "      <td>0.0</td>\n",
       "      <td>0.0</td>\n",
       "      <td>0.0</td>\n",
       "      <td>0.0</td>\n",
       "      <td>0.0</td>\n",
       "      <td>0.0</td>\n",
       "      <td>0.0</td>\n",
       "      <td>0.0</td>\n",
       "      <td>0.0</td>\n",
       "      <td>...</td>\n",
       "      <td>6.312890</td>\n",
       "      <td>4.633819</td>\n",
       "      <td>3.274488</td>\n",
       "      <td>1.75987</td>\n",
       "      <td>1.894498</td>\n",
       "      <td>0.414264</td>\n",
       "      <td>0.0</td>\n",
       "      <td>0.0</td>\n",
       "      <td>0.0</td>\n",
       "      <td>0.0</td>\n",
       "    </tr>\n",
       "    <tr>\n",
       "      <th>min</th>\n",
       "      <td>0.000000</td>\n",
       "      <td>0.0</td>\n",
       "      <td>0.0</td>\n",
       "      <td>0.0</td>\n",
       "      <td>0.0</td>\n",
       "      <td>0.0</td>\n",
       "      <td>0.0</td>\n",
       "      <td>0.0</td>\n",
       "      <td>0.0</td>\n",
       "      <td>0.0</td>\n",
       "      <td>...</td>\n",
       "      <td>0.000000</td>\n",
       "      <td>0.000000</td>\n",
       "      <td>0.000000</td>\n",
       "      <td>0.00000</td>\n",
       "      <td>0.000000</td>\n",
       "      <td>0.000000</td>\n",
       "      <td>0.0</td>\n",
       "      <td>0.0</td>\n",
       "      <td>0.0</td>\n",
       "      <td>0.0</td>\n",
       "    </tr>\n",
       "    <tr>\n",
       "      <th>25%</th>\n",
       "      <td>2.000000</td>\n",
       "      <td>0.0</td>\n",
       "      <td>0.0</td>\n",
       "      <td>0.0</td>\n",
       "      <td>0.0</td>\n",
       "      <td>0.0</td>\n",
       "      <td>0.0</td>\n",
       "      <td>0.0</td>\n",
       "      <td>0.0</td>\n",
       "      <td>0.0</td>\n",
       "      <td>...</td>\n",
       "      <td>0.000000</td>\n",
       "      <td>0.000000</td>\n",
       "      <td>0.000000</td>\n",
       "      <td>0.00000</td>\n",
       "      <td>0.000000</td>\n",
       "      <td>0.000000</td>\n",
       "      <td>0.0</td>\n",
       "      <td>0.0</td>\n",
       "      <td>0.0</td>\n",
       "      <td>0.0</td>\n",
       "    </tr>\n",
       "    <tr>\n",
       "      <th>50%</th>\n",
       "      <td>4.000000</td>\n",
       "      <td>0.0</td>\n",
       "      <td>0.0</td>\n",
       "      <td>0.0</td>\n",
       "      <td>0.0</td>\n",
       "      <td>0.0</td>\n",
       "      <td>0.0</td>\n",
       "      <td>0.0</td>\n",
       "      <td>0.0</td>\n",
       "      <td>0.0</td>\n",
       "      <td>...</td>\n",
       "      <td>0.000000</td>\n",
       "      <td>0.000000</td>\n",
       "      <td>0.000000</td>\n",
       "      <td>0.00000</td>\n",
       "      <td>0.000000</td>\n",
       "      <td>0.000000</td>\n",
       "      <td>0.0</td>\n",
       "      <td>0.0</td>\n",
       "      <td>0.0</td>\n",
       "      <td>0.0</td>\n",
       "    </tr>\n",
       "    <tr>\n",
       "      <th>75%</th>\n",
       "      <td>7.000000</td>\n",
       "      <td>0.0</td>\n",
       "      <td>0.0</td>\n",
       "      <td>0.0</td>\n",
       "      <td>0.0</td>\n",
       "      <td>0.0</td>\n",
       "      <td>0.0</td>\n",
       "      <td>0.0</td>\n",
       "      <td>0.0</td>\n",
       "      <td>0.0</td>\n",
       "      <td>...</td>\n",
       "      <td>0.000000</td>\n",
       "      <td>0.000000</td>\n",
       "      <td>0.000000</td>\n",
       "      <td>0.00000</td>\n",
       "      <td>0.000000</td>\n",
       "      <td>0.000000</td>\n",
       "      <td>0.0</td>\n",
       "      <td>0.0</td>\n",
       "      <td>0.0</td>\n",
       "      <td>0.0</td>\n",
       "    </tr>\n",
       "    <tr>\n",
       "      <th>max</th>\n",
       "      <td>9.000000</td>\n",
       "      <td>0.0</td>\n",
       "      <td>0.0</td>\n",
       "      <td>0.0</td>\n",
       "      <td>0.0</td>\n",
       "      <td>0.0</td>\n",
       "      <td>0.0</td>\n",
       "      <td>0.0</td>\n",
       "      <td>0.0</td>\n",
       "      <td>0.0</td>\n",
       "      <td>...</td>\n",
       "      <td>254.000000</td>\n",
       "      <td>254.000000</td>\n",
       "      <td>253.000000</td>\n",
       "      <td>253.00000</td>\n",
       "      <td>254.000000</td>\n",
       "      <td>62.000000</td>\n",
       "      <td>0.0</td>\n",
       "      <td>0.0</td>\n",
       "      <td>0.0</td>\n",
       "      <td>0.0</td>\n",
       "    </tr>\n",
       "  </tbody>\n",
       "</table>\n",
       "<p>8 rows × 785 columns</p>\n",
       "</div>"
      ],
      "text/plain": [
       "              label   pixel0   pixel1   pixel2   pixel3   pixel4   pixel5  \\\n",
       "count  42000.000000  42000.0  42000.0  42000.0  42000.0  42000.0  42000.0   \n",
       "mean       4.456643      0.0      0.0      0.0      0.0      0.0      0.0   \n",
       "std        2.887730      0.0      0.0      0.0      0.0      0.0      0.0   \n",
       "min        0.000000      0.0      0.0      0.0      0.0      0.0      0.0   \n",
       "25%        2.000000      0.0      0.0      0.0      0.0      0.0      0.0   \n",
       "50%        4.000000      0.0      0.0      0.0      0.0      0.0      0.0   \n",
       "75%        7.000000      0.0      0.0      0.0      0.0      0.0      0.0   \n",
       "max        9.000000      0.0      0.0      0.0      0.0      0.0      0.0   \n",
       "\n",
       "        pixel6   pixel7   pixel8  ...      pixel774      pixel775  \\\n",
       "count  42000.0  42000.0  42000.0  ...  42000.000000  42000.000000   \n",
       "mean       0.0      0.0      0.0  ...      0.219286      0.117095   \n",
       "std        0.0      0.0      0.0  ...      6.312890      4.633819   \n",
       "min        0.0      0.0      0.0  ...      0.000000      0.000000   \n",
       "25%        0.0      0.0      0.0  ...      0.000000      0.000000   \n",
       "50%        0.0      0.0      0.0  ...      0.000000      0.000000   \n",
       "75%        0.0      0.0      0.0  ...      0.000000      0.000000   \n",
       "max        0.0      0.0      0.0  ...    254.000000    254.000000   \n",
       "\n",
       "           pixel776     pixel777      pixel778      pixel779  pixel780  \\\n",
       "count  42000.000000  42000.00000  42000.000000  42000.000000   42000.0   \n",
       "mean       0.059024      0.02019      0.017238      0.002857       0.0   \n",
       "std        3.274488      1.75987      1.894498      0.414264       0.0   \n",
       "min        0.000000      0.00000      0.000000      0.000000       0.0   \n",
       "25%        0.000000      0.00000      0.000000      0.000000       0.0   \n",
       "50%        0.000000      0.00000      0.000000      0.000000       0.0   \n",
       "75%        0.000000      0.00000      0.000000      0.000000       0.0   \n",
       "max      253.000000    253.00000    254.000000     62.000000       0.0   \n",
       "\n",
       "       pixel781  pixel782  pixel783  \n",
       "count   42000.0   42000.0   42000.0  \n",
       "mean        0.0       0.0       0.0  \n",
       "std         0.0       0.0       0.0  \n",
       "min         0.0       0.0       0.0  \n",
       "25%         0.0       0.0       0.0  \n",
       "50%         0.0       0.0       0.0  \n",
       "75%         0.0       0.0       0.0  \n",
       "max         0.0       0.0       0.0  \n",
       "\n",
       "[8 rows x 785 columns]"
      ]
     },
     "execution_count": 7,
     "metadata": {},
     "output_type": "execute_result"
    }
   ],
   "source": [
    "train_data.describe()"
   ]
  },
  {
   "cell_type": "markdown",
   "metadata": {},
   "source": [
    "Data dimension of the Fashion MNIST dataset"
   ]
  },
  {
   "cell_type": "code",
   "execution_count": 8,
   "metadata": {
    "execution": {
     "iopub.execute_input": "2022-11-19T05:23:51.255396Z",
     "iopub.status.busy": "2022-11-19T05:23:51.254917Z",
     "iopub.status.idle": "2022-11-19T05:23:51.261655Z",
     "shell.execute_reply": "2022-11-19T05:23:51.260689Z",
     "shell.execute_reply.started": "2022-11-19T05:23:51.255357Z"
    }
   },
   "outputs": [
    {
     "name": "stdout",
     "output_type": "stream",
     "text": [
      "train.csv size is (60000, 785)\n",
      "test.csv size is (10000, 785)\n"
     ]
    }
   ],
   "source": [
    "print(f\"train.csv size is {fashion_train_data.shape}\")\n",
    "print(f\"test.csv size is {fashion_test_data.shape}\")"
   ]
  },
  {
   "cell_type": "code",
   "execution_count": 10,
   "metadata": {
    "execution": {
     "iopub.execute_input": "2022-11-19T05:23:51.317315Z",
     "iopub.status.busy": "2022-11-19T05:23:51.316977Z",
     "iopub.status.idle": "2022-11-19T05:23:51.375542Z",
     "shell.execute_reply": "2022-11-19T05:23:51.374508Z",
     "shell.execute_reply.started": "2022-11-19T05:23:51.317290Z"
    }
   },
   "outputs": [
    {
     "data": {
      "text/plain": [
       "label       0\n",
       "pixel1      0\n",
       "pixel2      0\n",
       "pixel3      0\n",
       "pixel4      0\n",
       "           ..\n",
       "pixel780    0\n",
       "pixel781    0\n",
       "pixel782    0\n",
       "pixel783    0\n",
       "pixel784    0\n",
       "Length: 785, dtype: int64"
      ]
     },
     "execution_count": 10,
     "metadata": {},
     "output_type": "execute_result"
    }
   ],
   "source": [
    "fashion_train_data.isnull().sum()"
   ]
  },
  {
   "cell_type": "markdown",
   "metadata": {
    "papermill": {
     "duration": 0.016287,
     "end_time": "2022-11-03T09:01:59.775872",
     "exception": false,
     "start_time": "2022-11-03T09:01:59.759585",
     "status": "completed"
    },
    "tags": []
   },
   "source": [
    "* No missing values in both datasets"
   ]
  },
  {
   "cell_type": "code",
   "execution_count": 9,
   "metadata": {
    "execution": {
     "iopub.execute_input": "2022-11-19T05:23:51.377849Z",
     "iopub.status.busy": "2022-11-19T05:23:51.376926Z",
     "iopub.status.idle": "2022-11-19T05:23:51.382671Z",
     "shell.execute_reply": "2022-11-19T05:23:51.381392Z",
     "shell.execute_reply.started": "2022-11-19T05:23:51.377813Z"
    },
    "papermill": {
     "duration": 0.02533,
     "end_time": "2022-11-03T09:01:59.818399",
     "exception": false,
     "start_time": "2022-11-03T09:01:59.793069",
     "status": "completed"
    },
    "tags": []
   },
   "outputs": [],
   "source": [
    "train_labels=train_data['label']"
   ]
  },
  {
   "cell_type": "code",
   "execution_count": 10,
   "metadata": {
    "execution": {
     "iopub.execute_input": "2022-11-19T05:23:51.384734Z",
     "iopub.status.busy": "2022-11-19T05:23:51.384305Z",
     "iopub.status.idle": "2022-11-19T05:23:51.394121Z",
     "shell.execute_reply": "2022-11-19T05:23:51.392999Z",
     "shell.execute_reply.started": "2022-11-19T05:23:51.384700Z"
    },
    "papermill": {
     "duration": 0.024587,
     "end_time": "2022-11-03T09:01:59.893265",
     "exception": false,
     "start_time": "2022-11-03T09:01:59.868678",
     "status": "completed"
    },
    "tags": []
   },
   "outputs": [],
   "source": [
    "img_rows, img_cols = 28, 28 \n",
    "num_classes = 10 "
   ]
  },
  {
   "cell_type": "code",
   "execution_count": 11,
   "metadata": {
    "execution": {
     "iopub.execute_input": "2022-11-19T05:23:51.395977Z",
     "iopub.status.busy": "2022-11-19T05:23:51.395571Z",
     "iopub.status.idle": "2022-11-19T05:23:51.649127Z",
     "shell.execute_reply": "2022-11-19T05:23:51.648090Z",
     "shell.execute_reply.started": "2022-11-19T05:23:51.395927Z"
    },
    "papermill": {
     "duration": 0.138782,
     "end_time": "2022-11-03T09:02:00.11374",
     "exception": false,
     "start_time": "2022-11-03T09:01:59.974958",
     "status": "completed"
    },
    "tags": []
   },
   "outputs": [],
   "source": [
    "def data_prep(raw):\n",
    "    out_y = tensorflow.keras.utils.to_categorical(raw.label, num_classes)\n",
    "\n",
    "    num_images = raw.shape[0]\n",
    "    x_as_array = raw.values[:,1:]\n",
    "    x_shaped_array = x_as_array.reshape(num_images, img_rows, img_cols, 1)\n",
    "  \n",
    "    out_x = x_shaped_array / 255\n",
    "    return out_x, out_y\n",
    "\n",
    "x, y = data_prep(train_data)\n",
    "x_fashion,y_fashion = data_prep(fashion_train_data)"
   ]
  },
  {
   "cell_type": "code",
   "execution_count": 12,
   "metadata": {
    "execution": {
     "iopub.execute_input": "2022-11-19T05:23:51.651237Z",
     "iopub.status.busy": "2022-11-19T05:23:51.650600Z",
     "iopub.status.idle": "2022-11-19T05:23:52.098866Z",
     "shell.execute_reply": "2022-11-19T05:23:52.097877Z",
     "shell.execute_reply.started": "2022-11-19T05:23:51.651195Z"
    },
    "papermill": {
     "duration": 0.487876,
     "end_time": "2022-11-03T09:02:00.651253",
     "exception": false,
     "start_time": "2022-11-03T09:02:00.163377",
     "status": "completed"
    },
    "tags": []
   },
   "outputs": [],
   "source": [
    "x_train, x_test, y_train, y_test = train_test_split(x, y, test_size=0.1, random_state=42)#ratio 90:10\n",
    "x_train, x_val, y_train, y_val= train_test_split(x_train, y_train, test_size = 1/9, random_state=42)"
   ]
  },
  {
   "cell_type": "code",
   "execution_count": 13,
   "metadata": {
    "execution": {
     "iopub.execute_input": "2022-11-19T05:23:52.100879Z",
     "iopub.status.busy": "2022-11-19T05:23:52.100481Z",
     "iopub.status.idle": "2022-11-19T05:23:52.742716Z",
     "shell.execute_reply": "2022-11-19T05:23:52.741704Z",
     "shell.execute_reply.started": "2022-11-19T05:23:52.100841Z"
    }
   },
   "outputs": [],
   "source": [
    "x_train_fashion, x_test_fashion, y_train_fashion, y_test_fashion = train_test_split(x_fashion, y_fashion, test_size=0.1, random_state=42)#ratio 90:10\n",
    "x_train_fashion, x_val_fashion, y_train_fashion, y_val_fashion= train_test_split(x_train_fashion, y_train_fashion, test_size = 1/9, random_state=42)"
   ]
  },
  {
   "cell_type": "code",
   "execution_count": 14,
   "metadata": {
    "execution": {
     "iopub.execute_input": "2022-11-19T05:23:52.744715Z",
     "iopub.status.busy": "2022-11-19T05:23:52.744340Z",
     "iopub.status.idle": "2022-11-19T05:23:52.827894Z",
     "shell.execute_reply": "2022-11-19T05:23:52.826988Z",
     "shell.execute_reply.started": "2022-11-19T05:23:52.744678Z"
    },
    "papermill": {
     "duration": 0.110745,
     "end_time": "2022-11-03T09:02:00.842543",
     "exception": false,
     "start_time": "2022-11-03T09:02:00.731798",
     "status": "completed"
    },
    "tags": []
   },
   "outputs": [
    {
     "data": {
      "text/plain": [
       "(28000, 28, 28, 1)"
      ]
     },
     "execution_count": 14,
     "metadata": {},
     "output_type": "execute_result"
    }
   ],
   "source": [
    "test_data = test_data / 255  \n",
    "test_data = test_data.values.reshape(-1,28,28,1)\n",
    "test_data.shape"
   ]
  },
  {
   "cell_type": "code",
   "execution_count": 15,
   "metadata": {
    "execution": {
     "iopub.execute_input": "2022-11-19T05:23:52.830713Z",
     "iopub.status.busy": "2022-11-19T05:23:52.830095Z",
     "iopub.status.idle": "2022-11-19T05:23:52.863388Z",
     "shell.execute_reply": "2022-11-19T05:23:52.862360Z",
     "shell.execute_reply.started": "2022-11-19T05:23:52.830668Z"
    }
   },
   "outputs": [],
   "source": [
    "fashion_test_data = fashion_test_data / 255  \n"
   ]
  },
  {
   "cell_type": "code",
   "execution_count": 16,
   "metadata": {
    "execution": {
     "iopub.execute_input": "2022-11-19T05:23:52.865049Z",
     "iopub.status.busy": "2022-11-19T05:23:52.864662Z",
     "iopub.status.idle": "2022-11-19T05:23:52.871317Z",
     "shell.execute_reply": "2022-11-19T05:23:52.870293Z",
     "shell.execute_reply.started": "2022-11-19T05:23:52.865013Z"
    },
    "papermill": {
     "duration": 0.027199,
     "end_time": "2022-11-03T09:02:00.9203",
     "exception": false,
     "start_time": "2022-11-03T09:02:00.893101",
     "status": "completed"
    },
    "tags": []
   },
   "outputs": [
    {
     "name": "stdout",
     "output_type": "stream",
     "text": [
      "Training data size is (33600, 28, 28, 1)\n",
      "Training data size is (33600, 10)\n",
      "Testing data size is (4200, 28, 28, 1)\n",
      "Training data size is (4200, 10)\n"
     ]
    }
   ],
   "source": [
    "print(f\"Training data size is {x_train.shape}\")\n",
    "print(f\"Training data size is {y_train.shape}\")\n",
    "print(f\"Testing data size is {x_test.shape}\")\n",
    "print(f\"Training data size is {y_test.shape}\")"
   ]
  },
  {
   "cell_type": "markdown",
   "metadata": {},
   "source": [
    "Dimensions of Fashion MNIST Dataset"
   ]
  },
  {
   "cell_type": "code",
   "execution_count": 17,
   "metadata": {
    "execution": {
     "iopub.execute_input": "2022-11-19T05:23:52.873427Z",
     "iopub.status.busy": "2022-11-19T05:23:52.872788Z",
     "iopub.status.idle": "2022-11-19T05:23:52.882721Z",
     "shell.execute_reply": "2022-11-19T05:23:52.881735Z",
     "shell.execute_reply.started": "2022-11-19T05:23:52.873392Z"
    }
   },
   "outputs": [
    {
     "name": "stdout",
     "output_type": "stream",
     "text": [
      "Training data size is (48000, 28, 28, 1)\n",
      "Training data size is (48000, 10)\n",
      "Testing data size is (6000, 28, 28, 1)\n",
      "Training data size is (6000, 10)\n"
     ]
    }
   ],
   "source": [
    "print(f\"Training data size is {x_train_fashion.shape}\")\n",
    "print(f\"Training data size is {y_train_fashion.shape}\")\n",
    "print(f\"Testing data size is {x_test_fashion.shape}\")\n",
    "print(f\"Training data size is {y_test_fashion.shape}\")"
   ]
  },
  {
   "cell_type": "code",
   "execution_count": 19,
   "metadata": {
    "execution": {
     "iopub.execute_input": "2022-11-19T05:23:52.896666Z",
     "iopub.status.busy": "2022-11-19T05:23:52.895990Z",
     "iopub.status.idle": "2022-11-19T05:23:52.905839Z",
     "shell.execute_reply": "2022-11-19T05:23:52.905007Z",
     "shell.execute_reply.started": "2022-11-19T05:23:52.896631Z"
    }
   },
   "outputs": [
    {
     "data": {
      "text/plain": [
       "[6, 3, 8, 4, 1, 4, 2, 2, 9]"
      ]
     },
     "execution_count": 19,
     "metadata": {},
     "output_type": "execute_result"
    }
   ],
   "source": [
    "title_fashion=[j for i in range(1, 10) for j in range(0,10) if y_train_fashion[i][j] == 1]\n",
    "title_fashion"
   ]
  },
  {
   "cell_type": "markdown",
   "metadata": {},
   "source": [
    "**Plotting the Fashion MNIST dataset.** "
   ]
  },
  {
   "cell_type": "code",
   "execution_count": 20,
   "metadata": {
    "execution": {
     "iopub.execute_input": "2022-11-19T05:23:52.907891Z",
     "iopub.status.busy": "2022-11-19T05:23:52.906994Z",
     "iopub.status.idle": "2022-11-19T05:23:54.031755Z",
     "shell.execute_reply": "2022-11-19T05:23:54.030756Z",
     "shell.execute_reply.started": "2022-11-19T05:23:52.907856Z"
    }
   },
   "outputs": [
    {
     "data": {
      "image/png": "[encoded data removed]",
      "text/plain": [
       "<Figure size 648x648 with 9 Axes>"
      ]
     },
     "metadata": {
      "needs_background": "light"
     },
     "output_type": "display_data"
    }
   ],
   "source": [
    "plt.figure(figsize=(9,9))\n",
    "for i in range(1, 10):\n",
    "    plt.subplot(330 + i)\n",
    "    plt.imshow(x_train_fashion[i], cmap=plt.get_cmap('gray'))\n",
    "    plt.title(title_fashion[i-1])\n",
    "    \n",
    "plt.tight_layout()"
   ]
  },
  {
   "cell_type": "markdown",
   "metadata": {},
   "source": [
    "**Plotting the Digits MNIST dataset.**"
   ]
  },
  {
   "cell_type": "code",
   "execution_count": 21,
   "metadata": {
    "execution": {
     "iopub.execute_input": "2022-11-19T05:23:54.033568Z",
     "iopub.status.busy": "2022-11-19T05:23:54.032957Z",
     "iopub.status.idle": "2022-11-19T05:23:55.429020Z",
     "shell.execute_reply": "2022-11-19T05:23:55.427991Z",
     "shell.execute_reply.started": "2022-11-19T05:23:54.033528Z"
    },
    "papermill": {
     "duration": 1.195223,
     "end_time": "2022-11-03T09:02:02.57003",
     "exception": false,
     "start_time": "2022-11-03T09:02:01.374807",
     "status": "completed"
    },
    "tags": []
   },
   "outputs": [
    {
     "data": {
      "image/png": "[encoded data removed]",
      "text/plain": [
       "<Figure size 504x648 with 9 Axes>"
      ]
     },
     "metadata": {
      "needs_background": "light"
     },
     "output_type": "display_data"
    }
   ],
   "source": [
    "plt.figure(figsize=(7,9))\n",
    "for i in range(1, 10):\n",
    "    plt.subplot(330 + i)\n",
    "    plt.imshow(x_train[i], cmap=plt.get_cmap('gray'))\n",
    "    plt.title(title[i-1])\n",
    "    \n",
    "plt.tight_layout()"
   ]
  },
  {
   "cell_type": "code",
   "execution_count": 65,
   "metadata": {
    "execution": {
     "iopub.execute_input": "2022-11-19T05:23:59.007670Z",
     "iopub.status.busy": "2022-11-19T05:23:59.007265Z",
     "iopub.status.idle": "2022-11-19T05:23:59.158121Z",
     "shell.execute_reply": "2022-11-19T05:23:59.157231Z",
     "shell.execute_reply.started": "2022-11-19T05:23:59.007615Z"
    }
   },
   "outputs": [],
   "source": [
    "from timeit import default_timer as timer\n",
    "import keras\n",
    "class TimingCallback(keras.callbacks.Callback):\n",
    "    def __init__(self, logs={}):\n",
    "        self.logs=[]\n",
    "    def on_epoch_begin(self, epoch, logs={}):\n",
    "        self.starttime = timer()\n",
    "    def on_epoch_end(self, epoch, logs={}):\n",
    "        self.logs.append(float(\"{:.2f}\".format(timer()-self.starttime)))\n",
    "\n",
    "cb = TimingCallback()"
   ]
  },
  {
   "cell_type": "code",
   "execution_count": 38,
   "metadata": {
    "_kg_hide-input": true,
    "execution": {
     "iopub.execute_input": "2022-11-19T05:23:59.290844Z",
     "iopub.status.busy": "2022-11-19T05:23:59.290537Z",
     "iopub.status.idle": "2022-11-19T05:23:59.297886Z",
     "shell.execute_reply": "2022-11-19T05:23:59.296862Z",
     "shell.execute_reply.started": "2022-11-19T05:23:59.290813Z"
    },
    "papermill": {
     "duration": 0.031562,
     "end_time": "2022-11-03T09:02:14.854152",
     "exception": false,
     "start_time": "2022-11-03T09:02:14.82259",
     "status": "completed"
    },
    "tags": []
   },
   "outputs": [],
   "source": [
    "epochs = 1"
   ]
  },
  {
   "cell_type": "markdown",
   "metadata": {},
   "source": [
    "# Fitting Convolutional AutoEncoder model on Fashion MNIST dataset"
   ]
  },
  {
   "cell_type": "code",
   "execution_count": 66,
   "metadata": {
    "execution": {
     "iopub.execute_input": "2022-11-19T05:23:59.303328Z",
     "iopub.status.busy": "2022-11-19T05:23:59.302683Z"
    },
    "scrolled": true
   },
   "outputs": [
    {
     "name": "stdout",
     "output_type": "stream",
     "text": [
      "48000/48000 [==============================] - 126s 3ms/step - loss: 0.2683 - val_loss: 0.2606\n",
      "3000/3000 [==============================] - 30s 10ms/step - loss: 0.2846 - val_loss: 0.2691\n",
      "1500/1500 [==============================] - 23s 15ms/step - loss: 0.2957 - val_loss: 0.2739\n",
      "188/188 [==============================] - 18s 93ms/step - loss: 0.3666 - val_loss: 0.3025\n",
      "1/1 [==============================] - 16s 16s/step - loss: 0.6936 - val_loss: 0.6910\n"
     ]
    }
   ],
   "source": [
    "losses= []\n",
    "batch_sizes= [1,16, 32, 256, x_train_fashion.shape[0]]\n",
    "epochs= 1\n",
    "for batches in batch_sizes:\n",
    "    conv_encoder = Sequential()\n",
    "    conv_encoder.add(Reshape([28,28,1],input_shape=[28,28]))\n",
    "    conv_encoder.add(Conv2D(16,kernel_size=3,padding='same',activation='selu'))\n",
    "    conv_encoder.add(MaxPool2D(pool_size=2))\n",
    "    conv_encoder.add(Conv2D(32,kernel_size=3,padding='same',activation='selu'))\n",
    "    conv_encoder.add(MaxPool2D(pool_size=2))\n",
    "    conv_encoder.add(Conv2D(64,kernel_size=3,padding='same',activation='selu'))\n",
    "    conv_encoder.add(MaxPool2D(pool_size=2))\n",
    "\n",
    "    conv_decoder = Sequential()\n",
    "    conv_decoder.add(Conv2DTranspose(32,kernel_size=3,strides=2,padding=\"valid\",activation='selu',input_shape=[3,3,64]))\n",
    "    conv_decoder.add(Conv2DTranspose(16,kernel_size=3,strides=2,padding=\"same\",activation='selu'))\n",
    "    conv_decoder.add(Conv2DTranspose(1,kernel_size=3,strides=2,padding=\"same\",activation='sigmoid'))\n",
    "    conv_decoder.add(Reshape([28,28]))\n",
    "\n",
    "    conv_ae = Sequential([conv_encoder,conv_decoder])\n",
    "    conv_ae.compile(optimizer = 'adam',loss = 'binary_crossentropy')\n",
    "    conv_ae_fit = conv_ae.fit(x=x_train_fashion,\n",
    "                              y=x_train_fashion, \n",
    "                              batch_size= batches,\n",
    "                              epochs=epochs,\n",
    "                              validation_data=(x_val_fashion,x_val_fashion),\n",
    "                              verbose =1, \n",
    "                              callbacks= [cb])\n",
    "    losses.append(conv_ae.history.history['loss'])\n",
    "    "
   ]
  },
  {
   "cell_type": "code",
   "execution_count": 67,
   "metadata": {},
   "outputs": [
    {
     "data": {
      "text/plain": [
       "[125.68, 30.18, 23.03, 18.03, 15.8]"
      ]
     },
     "execution_count": 67,
     "metadata": {},
     "output_type": "execute_result"
    }
   ],
   "source": [
    "cb.logs"
   ]
  },
  {
   "cell_type": "code",
   "execution_count": 52,
   "metadata": {},
   "outputs": [],
   "source": [
    "sum1= 0\n",
    "time= []\n",
    "epoch=1\n",
    "for k in range(len(cb.logs)):\n",
    "    sum1+= cb.logs[k]\n",
    "    if((k+1==epoch):\n",
    "        time.append(sum1)\n",
    "        sum1= 0\n",
    "        "
   ]
  },
  {
   "cell_type": "code",
   "execution_count": 61,
   "metadata": {},
   "outputs": [],
   "source": [
    "plt.style.use('dark_background')"
   ]
  },
  {
   "cell_type": "code",
   "execution_count": 62,
   "metadata": {},
   "outputs": [
    {
     "data": {
      "image/png": "[encoded data removed]",
      "text/plain": [
       "<Figure size 432x288 with 1 Axes>"
      ]
     },
     "metadata": {},
     "output_type": "display_data"
    }
   ],
   "source": [
    "plt.plot(batch_sizes, cb.logs[-5:], 'r-o', markersize= 8, linestyle= 'dotted')\n",
    "plt.xlabel('Batch Size')\n",
    "plt.ylabel('Seconds')\n",
    "plt.show();"
   ]
  },
  {
   "cell_type": "code",
   "execution_count": 63,
   "metadata": {},
   "outputs": [
    {
     "data": {
      "image/png": "[encoded data removed]",
      "text/plain": [
       "<Figure size 432x288 with 1 Axes>"
      ]
     },
     "metadata": {},
     "output_type": "display_data"
    }
   ],
   "source": [
    "plt.plot(batch_sizes, losses, 'r-o', markersize= 8, linestyle= 'dotted')\n",
    "plt.xlabel('Batch Size')\n",
    "plt.ylabel('Losses')\n",
    "plt.show();"
   ]
  },
  {
   "cell_type": "markdown",
   "metadata": {
    "_kg_hide-input": true,
    "_kg_hide-output": true,
    "papermill": {
     "duration": 0.383589,
     "end_time": "2022-11-03T09:15:56.510749",
     "exception": false,
     "start_time": "2022-11-03T09:15:56.12716",
     "status": "completed"
    },
    "tags": []
   },
   "source": [
    "<h1  style='color:white; background:#0096FF ; border:0;text-align: center' class=\"list-group-item list-group-item-action active\">SAVE MODEL</h1><a id = \"6.2\" ></a>"
   ]
  },
  {
   "cell_type": "code",
   "execution_count": 49,
   "metadata": {
    "_kg_hide-input": true,
    "_kg_hide-output": true,
    "papermill": {
     "duration": 6.423316,
     "end_time": "2022-11-03T09:16:03.268647",
     "exception": false,
     "start_time": "2022-11-03T09:15:56.845331",
     "status": "completed"
    },
    "tags": []
   },
   "outputs": [
    {
     "name": "stderr",
     "output_type": "stream",
     "text": [
      "WARNING:absl:Found untraced functions such as _jit_compiled_convolution_op, _jit_compiled_convolution_op, _jit_compiled_convolution_op, _jit_compiled_convolution_op, _jit_compiled_convolution_op while saving (showing 5 of 6). These functions will not be directly callable after loading.\n"
     ]
    },
    {
     "name": "stdout",
     "output_type": "stream",
     "text": [
      "INFO:tensorflow:Assets written to: saved_model/conv_ae.json\\assets\n"
     ]
    },
    {
     "name": "stderr",
     "output_type": "stream",
     "text": [
      "INFO:tensorflow:Assets written to: saved_model/conv_ae.json\\assets\n"
     ]
    }
   ],
   "source": [
    "!mkdir -p saved_model\n",
    "conv_ae.save('saved_model/conv_ae.json')\n"
   ]
  },
  {
   "cell_type": "code",
   "execution_count": 69,
   "metadata": {},
   "outputs": [
    {
     "data": {
      "image/png": "[encoded data removed]",
      "text/plain": [
       "<Figure size 1440x2160 with 14 Axes>"
      ]
     },
     "metadata": {},
     "output_type": "display_data"
    }
   ],
   "source": [
    "fig, axs = plt.subplots(7,2,figsize=(20,30))\n",
    "axs[0][0].set_title('Original image')\n",
    "axs[0][1].set_title('Convolutional Autoencoder image compression')\n",
    "for i in range(0, 7):\n",
    "    axs[i][0].imshow(x_test_fashion[i], cmap=plt.get_cmap('gray'))\n",
    "    axs[i][1].imshow(fashion_compress[i], cmap=plt.get_cmap('gray'))\n",
    "plt.tight_layout()\n",
    "plt.show()"
   ]
  },
  {
   "cell_type": "markdown",
   "metadata": {
    "papermill": {
     "duration": 0.342836,
     "end_time": "2022-11-03T09:16:08.166791",
     "exception": false,
     "start_time": "2022-11-03T09:16:07.823955",
     "status": "completed"
    },
    "tags": []
   },
   "source": [
    "\n",
    "<h1  style='color:white; background:#0096FF ; border:0;text-align: center' class=\"list-group-item list-group-item-action active\">6. PLOT & EVALUATION</h1><a id = \"8\" ></a>"
   ]
  },
  {
   "cell_type": "code",
   "execution_count": 46,
   "metadata": {
    "papermill": {
     "duration": 1.153574,
     "end_time": "2022-11-03T09:16:12.075307",
     "exception": false,
     "start_time": "2022-11-03T09:16:10.921733",
     "status": "completed"
    },
    "tags": []
   },
   "outputs": [
    {
     "name": "stdout",
     "output_type": "stream",
     "text": [
      "188/188 [==============================] - 0s 1ms/step\n",
      "188/188 [==============================] - 1s 5ms/step\n"
     ]
    }
   ],
   "source": [
    "x_test_compress = model.predict(x_test_fashion)\n",
    "fashion_compress = conv_ae.predict(x_test_fashion)"
   ]
  }
 ],
 "metadata": {
  "kernelspec": {
   "display_name": "Python 3",
   "language": "python",
   "name": "python3"
  },
  "language_info": {
   "codemirror_mode": {
    "name": "ipython",
    "version": 3
   },
   "file_extension": ".py",
   "mimetype": "text/x-python",
   "name": "python",
   "nbconvert_exporter": "python",
   "pygments_lexer": "ipython3",
   "version": "3.8.5"
  }
 },
 "nbformat": 4,
 "nbformat_minor": 4
}
